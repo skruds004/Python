{
 "cells": [
  {
   "cell_type": "markdown",
   "metadata": {},
   "source": [
    "# Problem 1\n",
    "You need to produce a list of Scrabble word values for a list of words.  Write a function *scrabbleValue* that is passed a the string parameter *word* and returns the scrabble value for that word.  The scrabble value of each letter is in the dictionary *letter_values*.  Use the *map* function and the *scrabbleValue* function to create and print a list of scrabble word values for the words in the list *words*."
   ]
  },
  {
   "cell_type": "code",
   "execution_count": 65,
   "metadata": {},
   "outputs": [
    {
     "name": "stdout",
     "output_type": "stream",
     "text": [
      "[14, 12, 4, 7, 11, 8, 16, 5]\n"
     ]
    }
   ],
   "source": [
    "def scrabbleValue(word):\n",
    "    value = 0\n",
    "    for letter in word:\n",
    "        value += letter_values[letter]\n",
    "        \n",
    "    return value\n",
    "\n",
    "letter_values =  {'a':1, 'b':3, 'c':3, 'd':2, 'e':1, 'f':4, 'g': 2, 'h':4,\n",
    "    'i':1, 'j':8, 'k':5, 'l':1, 'm':3, 'n':1, 'o':1, 'p':3, 'q':10, 'r':1,\n",
    "    's':1, 't':1, 'u':1, 'v':8, 'w':4, 'x':8, 'y':4, 'z':10}\n",
    "\n",
    "words = ['python', 'program', 'list', 'string', 'unix', 'hours', 'syntax', 'error']\n",
    "value_list = list(map(lambda x: scrabbleValue(x), words))\n",
    "print(value_list)"
   ]
  },
  {
   "cell_type": "markdown",
   "metadata": {},
   "source": [
    "Output should be:  \n",
    "&nbsp;&nbsp;&nbsp;&nbsp;[14, 12, 4, 7, 11, 8, 16, 5]"
   ]
  },
  {
   "cell_type": "markdown",
   "metadata": {},
   "source": [
    "# Problem 2\n",
    "You need to produce a list of word whose word lenght is an even number.  Write a function *selectWord* that is passed the string parameter *word*.  The function returns *True* if the lenght of the string is an even number; otherwise *False* is returned. Use the *filter* function and *selectWord* function to create and print a list of even length words from the list *words*."
   ]
  },
  {
   "cell_type": "code",
   "execution_count": 66,
   "metadata": {},
   "outputs": [
    {
     "name": "stdout",
     "output_type": "stream",
     "text": [
      "['python', 'list', 'string', 'unix', 'syntax']\n"
     ]
    }
   ],
   "source": [
    "def selectWord(word):\n",
    "    if len(word)%2 == 0:\n",
    "        return True\n",
    "    else:\n",
    "        return False\n",
    "\n",
    "words = ['python', 'program', 'list', 'string', 'unix', 'hours', 'syntax', 'error']\n",
    "even_words = list(filter(selectWord,words))\n",
    "print(even_words)"
   ]
  },
  {
   "cell_type": "markdown",
   "metadata": {},
   "source": [
    "Output should be:  \n",
    "&nbsp;&nbsp;&nbsp;&nbsp;['python', 'list', 'string', 'unix', 'syntax']"
   ]
  },
  {
   "cell_type": "markdown",
   "metadata": {},
   "source": [
    "# Problem 3\n",
    "This is the same problem as Problem 2 but you must use *list comprehension* and the *filter* function within the *list comprehension*. "
   ]
  },
  {
   "cell_type": "code",
   "execution_count": 67,
   "metadata": {},
   "outputs": [
    {
     "name": "stdout",
     "output_type": "stream",
     "text": [
      "['python', 'list', 'string', 'unix', 'syntax']\n"
     ]
    }
   ],
   "source": [
    "def selectWord(word):\n",
    "    if len(word)%2 == 0:\n",
    "        return True\n",
    "    else:\n",
    "        return False\n",
    "\n",
    "words = ['python', 'program', 'list', 'string', 'unix', 'hours', 'syntax', 'error']\n",
    "even_words = [x for x in filter(lambda x: selectWord(x), words)]\n",
    "print(even_words)"
   ]
  },
  {
   "cell_type": "markdown",
   "metadata": {},
   "source": [
    "Output should be:  \n",
    "&nbsp;&nbsp;&nbsp;&nbsp;['python', 'list', 'string', 'unix', 'syntax']"
   ]
  },
  {
   "cell_type": "markdown",
   "metadata": {},
   "source": [
    "# Problem 4\n",
    "This is the identical problem as Problem 3. However, instead of using the *selectWord* function in the *filter* function, you need to use a *lamba expression*. Hint: returning true or false based upon whether the length of the string is even or odd, may be done with a simple python expression.  If you used an *if* statement in *selectWord*, ponder the expression that you used. "
   ]
  },
  {
   "cell_type": "code",
   "execution_count": 68,
   "metadata": {},
   "outputs": [
    {
     "name": "stdout",
     "output_type": "stream",
     "text": [
      "['python', 'list', 'string', 'unix', 'syntax']\n"
     ]
    }
   ],
   "source": [
    "words = ['python', 'program', 'list', 'string', 'unix', 'hours', 'syntax', 'error']\n",
    "even_words = [x for x in filter(lambda x: len(x)%2 == 0, words)]\n",
    "print(even_words)"
   ]
  },
  {
   "cell_type": "markdown",
   "metadata": {},
   "source": [
    "Output should be:  \n",
    "&nbsp;&nbsp;&nbsp;&nbsp;['python', 'list', 'string', 'unix', 'syntax']"
   ]
  },
  {
   "cell_type": "markdown",
   "metadata": {},
   "source": [
    "# Problem 5\n",
    "The list *names* where each element is a string in \"First Name Last Name\" sequence. Derive a new list from *names* where the string is in \"Last Name, First Name\" sequence.  Use list comprehension to convert the list. Hint, you will need to split each name into the First and Last.  Remember 'a' + 'b' ==> 'ab'. "
   ]
  },
  {
   "cell_type": "code",
   "execution_count": 69,
   "metadata": {},
   "outputs": [
    {
     "name": "stdout",
     "output_type": "stream",
     "text": [
      "['Newton, Isaac', 'Einstein, Albert', 'Bohr, Niels', 'Curie, Marie', 'Darwin, Charles', 'Galilei, Galileo', 'Mead, Margaret']\n"
     ]
    }
   ],
   "source": [
    "names = [\"Isaac Newton\", \"Albert Einstein\", \"Niels Bohr\", \"Marie Curie\",\"Charles Darwin\", \"Galileo Galilei\", \"Margaret Mead\"]\n",
    "new_names = [x[1] + ', ' + x[0] for x in list([x.split() for x in names])]\n",
    "print(new_names)"
   ]
  },
  {
   "cell_type": "markdown",
   "metadata": {},
   "source": [
    "Output should be:  \n",
    "&nbsp;&nbsp;&nbsp;&nbsp;['Newton, Isaac', 'Einstein, Albert', 'Bohr, Niels', 'Curie, Marie', 'Darwin, Charles', 'Galilei, Galileo', 'Mead, Margaret']"
   ]
  },
  {
   "cell_type": "markdown",
   "metadata": {},
   "source": [
    "# Problem 6\n",
    "Given a string as below, write code the uses list comprehension to reverse the words in the string.  You need to use the reversed() and join() functions. Albeit, this solution is just one line of code, this is a challenging problem.  You need to break this down into multiple steps:  \n",
    "&nbsp;&nbsp;&nbsp;&nbsp;1) You know how to split a string into a list of words.  \n",
    "&nbsp;&nbsp;&nbsp;&nbsp;2) Reverse the list of words using reversed().  The end result should the a list of the words in reverse order.  \n",
    "&nbsp;&nbsp;&nbsp;&nbsp;3) Use list comprehension to iterate through the list of reversed words.  \n",
    "&nbsp;&nbsp;&nbsp;&nbsp;4) Use join() to join the words in the reversed list into a string.  "
   ]
  },
  {
   "cell_type": "code",
   "execution_count": 73,
   "metadata": {},
   "outputs": [
    {
     "name": "stdout",
     "output_type": "stream",
     "text": [
      "together back getting ever never are we\n"
     ]
    }
   ],
   "source": [
    "sentence  = 'we are never ever getting back together'\n",
    "s = ' '.join([x for x in reversed(sentence.split())])\n",
    "print(s)"
   ]
  },
  {
   "cell_type": "markdown",
   "metadata": {},
   "source": [
    "Output show be:  \n",
    "&nbsp;&nbsp;&nbsp;&nbsp;together back getting ever never are we"
   ]
  },
  {
   "cell_type": "code",
   "execution_count": null,
   "metadata": {},
   "outputs": [],
   "source": []
  }
 ],
 "metadata": {
  "kernelspec": {
   "display_name": "Python 3",
   "language": "python",
   "name": "python3"
  },
  "language_info": {
   "codemirror_mode": {
    "name": "ipython",
    "version": 3
   },
   "file_extension": ".py",
   "mimetype": "text/x-python",
   "name": "python",
   "nbconvert_exporter": "python",
   "pygments_lexer": "ipython3",
   "version": "3.6.5"
  }
 },
 "nbformat": 4,
 "nbformat_minor": 2
}
