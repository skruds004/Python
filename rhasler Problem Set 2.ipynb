{
 "cells": [
  {
   "cell_type": "markdown",
   "metadata": {},
   "source": [
    "# Problem 1\n",
    "Write one _for_ loop to print out each character of the string *my_str* on a separate line. "
   ]
  },
  {
   "cell_type": "code",
   "execution_count": 1,
   "metadata": {},
   "outputs": [
    {
     "name": "stdout",
     "output_type": "stream",
     "text": [
      "M\n",
      "I\n",
      "C\n",
      "H\n",
      "I\n",
      "G\n",
      "A\n",
      "N\n"
     ]
    }
   ],
   "source": [
    "my_str = \"MICHIGAN\"\n",
    "\n",
    "# Write your code below.\n",
    "for char in my_str:\n",
    "    print(char)"
   ]
  },
  {
   "cell_type": "markdown",
   "metadata": {},
   "source": [
    "# Problem 2\n",
    "In the cell below where indicated, do the following:\n",
    "1. Write one _for_ loop to print out each element of the list *several_things*. \n",
    "2. Write another _for_ loop to print out the _type_ of each element of the list *several_things*. "
   ]
  },
  {
   "cell_type": "code",
   "execution_count": 3,
   "metadata": {},
   "outputs": [
    {
     "name": "stdout",
     "output_type": "stream",
     "text": [
      "hello\n",
      "2\n",
      "4\n",
      "6.0\n",
      "7.5\n",
      "234352354\n",
      "the end\n",
      "\n",
      "99\n",
      "<class 'str'>\n",
      "<class 'int'>\n",
      "<class 'int'>\n",
      "<class 'float'>\n",
      "<class 'float'>\n",
      "<class 'int'>\n",
      "<class 'str'>\n",
      "<class 'str'>\n",
      "<class 'int'>\n"
     ]
    }
   ],
   "source": [
    "several_things = [\"hello\", 2, 4, 6.0, 7.5, 234352354, \"the end\", \"\", 99]\n",
    "\n",
    "# Write your code below.\n",
    "for element in several_things:\n",
    "    print(element)\n",
    "    \n",
    "for elem_type in several_things:\n",
    "    print(type(elem_type))"
   ]
  },
  {
   "cell_type": "markdown",
   "metadata": {},
   "source": [
    "# Problem 3\n",
    "Write code that uses iteration to print on a separate line the length of each element of the list *str_list*. "
   ]
  },
  {
   "cell_type": "code",
   "execution_count": 4,
   "metadata": {},
   "outputs": [
    {
     "name": "stdout",
     "output_type": "stream",
     "text": [
      "5\n",
      "0\n",
      "7\n",
      "9\n",
      "13\n"
     ]
    }
   ],
   "source": [
    "str_list = [\"hello\", \"\", \"goodbye\", \"wonderful\", \"I love Python\"]\n",
    "\n",
    "# Write your code below.\n",
    "for length in str_list:\n",
    "    print(len(length))"
   ]
  },
  {
   "cell_type": "markdown",
   "metadata": {},
   "source": [
    "# Problem 4\n",
    "Write code to count the number of characters in the string *original_str* using the accumulation pattern. Assign the answer to a variable num_chars. Print the variable num_chars.\n",
    "\n",
    "Do NOT use the len function to solve the problem.  You may use the len function on the string to confirm the your answer is correct. "
   ]
  },
  {
   "cell_type": "code",
   "execution_count": 8,
   "metadata": {},
   "outputs": [
    {
     "name": "stdout",
     "output_type": "stream",
     "text": [
      "57\n"
     ]
    }
   ],
   "source": [
    "original_str = \"The quick brown rhino jumped over the extremely lazy fox.\"\n",
    "\n",
    "# Write your code below.\n",
    "num_chars = 0\n",
    "for index in original_str:\n",
    "    num_chars += 1\n",
    "    \n",
    "print(num_chars)"
   ]
  },
  {
   "cell_type": "markdown",
   "metadata": {},
   "source": [
    "# Problem 5\n",
    "Write code to create a list of word lengths for the words in *original_str* using the accumulation pattern and assign the answer to a variable num_words_list. You need to use the len function to determine the lenght of each word. Print the list created. "
   ]
  },
  {
   "cell_type": "code",
   "execution_count": 9,
   "metadata": {},
   "outputs": [
    {
     "name": "stdout",
     "output_type": "stream",
     "text": [
      "[3, 5, 5, 5, 6, 4, 3, 9, 4, 4]\n"
     ]
    }
   ],
   "source": [
    "original_str = \"The quick brown rhino jumped over the extremely lazy fox.\"\n",
    "\n",
    "# Write your code below.\n",
    "str_list = original_str.split()\n",
    "num_words_list = []\n",
    "for string in str_list:\n",
    "    num_words_list.append(len(string))\n",
    "    \n",
    "print(num_words_list)"
   ]
  },
  {
   "cell_type": "markdown",
   "metadata": {},
   "source": [
    "# Problem 6\n",
    "The string *addition_str* contains list of numbers separated by the plus sign. Write code that uses the accumulation pattern to take the sum of all of the numbers and assigns it to sum_val (an integer).  Print the variable sum_val. \n",
    "\n",
    "You should use the split function to split by \"+\" and int() to cast to an integer."
   ]
  },
  {
   "cell_type": "code",
   "execution_count": 13,
   "metadata": {},
   "outputs": [
    {
     "name": "stdout",
     "output_type": "stream",
     "text": [
      "37\n"
     ]
    }
   ],
   "source": [
    "addition_str = \"2+5+10+20\"\n",
    "\n",
    "# Write your code below.\n",
    "sum_val = 0\n",
    "int_list = addition_str.split(\"+\")\n",
    "for num in int_list:\n",
    "    sum_val += int(num)\n",
    "    \n",
    "print (sum_val)"
   ]
  },
  {
   "cell_type": "markdown",
   "metadata": {},
   "source": [
    "# Problem 7\n",
    "The string *week_temps_f* contains a list of fahrenheit temperatures separated by the comma.  Write code that uses the accumulation pattern to compute the average temperature and assign it to the variable *avg_temp*. Do not hard code your answer.  This means that your code must compute both the total of all temperatures and the number of temperatures in week_temps_f.  Print the variable avg_temp.\n",
    "\n",
    "You need to use the *split* function to split by \",\" and float() to cast to a float. "
   ]
  },
  {
   "cell_type": "code",
   "execution_count": 15,
   "metadata": {},
   "outputs": [
    {
     "name": "stdout",
     "output_type": "stream",
     "text": [
      "80.67142857142858\n"
     ]
    }
   ],
   "source": [
    "week_temps_f = \"75.1,77.7,83.2,82.5,81.0,79.5,85.7\"\n",
    "\n",
    "# Write your code below.\n",
    "num_temps = 0\n",
    "sum_temps = 0\n",
    "week_temps = week_temps_f.split(\",\")\n",
    "for temp in week_temps:\n",
    "    num_temps += 1\n",
    "    sum_temps += float(temp)\n",
    "    \n",
    "avg_temp = sum_temps/num_temps\n",
    "print(avg_temp)\n"
   ]
  },
  {
   "cell_type": "markdown",
   "metadata": {},
   "source": [
    "# Problem 8\n",
    "Write a program that uses the turtle module and a _for_ loop to draw something.  It doesn’t have to be complicated, but draw something different than we did in the textbook or in class.  Hint: if you are drawing something complicated, try setting .speed(10) for the turtle to draw fast or .speed(0) to draw super fast.\n",
    "\n",
    "This version of Turtle is missing a couple of properties and methods as described in the online textbook.  "
   ]
  },
  {
   "cell_type": "code",
   "execution_count": 36,
   "metadata": {},
   "outputs": [
    {
     "data": {
      "application/vnd.jupyter.widget-view+json": {
       "model_id": "6f090a47c0e64be0b5c3180542e16c73",
       "version_major": 2,
       "version_minor": 0
      },
      "text/plain": [
       "Turtle()"
      ]
     },
     "metadata": {},
     "output_type": "display_data"
    }
   ],
   "source": [
    "from mobilechelonian import Turtle\n",
    "\n",
    "# Write your code below.\n",
    "turt = Turtle()\n",
    "for idx in range(0, 25):\n",
    "    turt.left(45)\n",
    "    turt.forward(idx)\n"
   ]
  },
  {
   "cell_type": "code",
   "execution_count": null,
   "metadata": {},
   "outputs": [],
   "source": []
  },
  {
   "cell_type": "code",
   "execution_count": null,
   "metadata": {},
   "outputs": [],
   "source": []
  },
  {
   "cell_type": "code",
   "execution_count": null,
   "metadata": {},
   "outputs": [],
   "source": []
  }
 ],
 "metadata": {
  "kernelspec": {
   "display_name": "Python 3",
   "language": "python",
   "name": "python3"
  },
  "language_info": {
   "codemirror_mode": {
    "name": "ipython",
    "version": 3
   },
   "file_extension": ".py",
   "mimetype": "text/x-python",
   "name": "python",
   "nbconvert_exporter": "python",
   "pygments_lexer": "ipython3",
   "version": "3.6.5"
  }
 },
 "nbformat": 4,
 "nbformat_minor": 2
}
