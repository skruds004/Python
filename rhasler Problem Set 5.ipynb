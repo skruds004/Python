{
 "cells": [
  {
   "cell_type": "markdown",
   "metadata": {},
   "source": [
    "# Problem 1\n",
    "Inspect the code below. The function *subtract_five* should take one integer as input and return that integer minus 5. Running the function will cause Python to throw an error. Change the function so the program correctly prints the value in y."
   ]
  },
  {
   "cell_type": "code",
   "execution_count": 2,
   "metadata": {},
   "outputs": [
    {
     "name": "stdout",
     "output_type": "stream",
     "text": [
      "-2\n"
     ]
    }
   ],
   "source": [
    "def subtract_five(inp):\n",
    "    return inp-5\n",
    "\n",
    "y = subtract_five(9) - 6\n",
    "print(y)"
   ]
  },
  {
   "cell_type": "markdown",
   "metadata": {},
   "source": [
    "# Problem 2\n",
    "Below is another bit of code that generates an error. The function works correctly but an error thrown when the program is run. Run the program and view the error. Inspect the code. Why does it cause an error? Write a comment explaining why an error occurs. Change the program so that the statement print(yp) will print the integer 7.You will receive negative credit if your solution is print(7)."
   ]
  },
  {
   "cell_type": "code",
   "execution_count": 5,
   "metadata": {},
   "outputs": [
    {
     "name": "stdout",
     "output_type": "stream",
     "text": [
      "7\n"
     ]
    }
   ],
   "source": [
    "def change_amounts(yp):\n",
    "    n = yp - 4\n",
    "    return n * 7\n",
    "\n",
    "yp = change_amounts(5)\n",
    "print(yp)\n",
    "#the error occurs because yp is a local variable in the change_amounts function, and it cannot be accessed outside the function"
   ]
  },
  {
   "cell_type": "markdown",
   "metadata": {},
   "source": [
    "# Problem 3\n",
    "Define a function called change_amounts that has the integer argument *num_here*. If the *num_here* is larger than 10, it should return the *num_here* + 5; otherwise it should return the *num_here* + 2. "
   ]
  },
  {
   "cell_type": "code",
   "execution_count": 7,
   "metadata": {},
   "outputs": [
    {
     "name": "stdout",
     "output_type": "stream",
     "text": [
      "20\n",
      "7\n"
     ]
    }
   ],
   "source": [
    "def change_amounts(num_here):\n",
    "    if num_here > 10:\n",
    "        return num_here + 5\n",
    "    else:\n",
    "        return num_here + 2\n",
    "\n",
    "print(change_amounts(15)) \n",
    "print(change_amounts(5))  "
   ]
  },
  {
   "cell_type": "markdown",
   "metadata": {},
   "source": [
    "# Problem 4\n",
    "Define a function called *mult_both* that has two integer parameters: *int1* and *int2*. The default values for *int1* and *int2* are 3 and 4 respectively. The function’s return value should be the two input integers multiplied together. Note, the default value for a parameter is the value assumed by the parameter when no actual parameter is passed."
   ]
  },
  {
   "cell_type": "code",
   "execution_count": 12,
   "metadata": {},
   "outputs": [
    {
     "name": "stdout",
     "output_type": "stream",
     "text": [
      "12\n",
      "25\n"
     ]
    }
   ],
   "source": [
    "def mult_both(int1 = 3, int2 = 4):\n",
    "    if int1 is None:\n",
    "        int1 = 3\n",
    "    if int2 is None:\n",
    "        int2 = 4\n",
    "    return int1 * int2\n",
    "\n",
    "\n",
    "  \n",
    "# write your function above\n",
    "print(mult_both())\n",
    "print(mult_both(5,5))"
   ]
  },
  {
   "cell_type": "markdown",
   "metadata": {},
   "source": [
    "# Problem 5\n",
    "Define a function called *max_in_list* that returns the maximum value from a list of integers. If the list is empty, your function should return False."
   ]
  },
  {
   "cell_type": "code",
   "execution_count": 15,
   "metadata": {},
   "outputs": [
    {
     "name": "stdout",
     "output_type": "stream",
     "text": [
      "73\n",
      "False\n"
     ]
    }
   ],
   "source": [
    "def max_in_list(temp_list):\n",
    "    if len(temp_list) == 0:\n",
    "        return False\n",
    "    else:\n",
    "        max_element = temp_list[0]\n",
    "        for element in temp_list:\n",
    "            if max_element < element:\n",
    "                max_element = element\n",
    "                \n",
    "        return max_element\n",
    "# write your function above\n",
    "my_list = [1,15,73,3,6,10,24]\n",
    "print(max_in_list(my_list))\n",
    "print(max_in_list([]))"
   ]
  },
  {
   "cell_type": "markdown",
   "metadata": {},
   "source": [
    "# Problem 6\n",
    "Write a function named *words_starting_with* that accepts a string as an argument.  The function returns a dictionary whose keys are the unique first letter of each word in the string and whose associated values is a list of words starting with that letter. For example, calling the function as below:\n",
    "\n",
    "   words_starting_with(\"this is the correct Terminal\")\n",
    "    \n",
    "   returns: \n",
    "   \n",
    "      { \"t\": [\"this\", \"the\", \"terminal\"], \"i\": [\"is\"], \"c\": [\"correct\"]}\n",
    "Approach (in the function):\n",
    "\n",
    "    Split the sentence into words. Note, the string has embedded new-line (\\n) characters.  You need to replace the new-line character with a space. (search for the replace() function in strings)\n",
    "    \n",
    "    Iterate through the words.\n",
    "    \n",
    "      convert the first letter to lower case (search for the lower() function in strings)\n",
    "    \n",
    "      If the first character of the current word is not in the dictionary,\n",
    "          initialize the dictionary entry for the current character with an empty list as the value\n",
    "      Append the current word to the value for the current character key  "
   ]
  },
  {
   "cell_type": "code",
   "execution_count": 22,
   "metadata": {},
   "outputs": [
    {
     "name": "stdout",
     "output_type": "stream",
     "text": [
      "{'a': ['a', 'always', 'are', 'apart'], 's': ['satire,', 'see', 'satire', 'so'], 'h': ['however', 'hard', 'how'], 'i': ['it', 'it', 'is', 'it'], 't': ['tries', 'tear', 'to', 'the'], 'w': ['will'], 'b': ['be', 'by'], 'd': ['delightful', 'delicious', 'does'], 'y': ['you', 'you'], 'u': ['upset'], 'p': ['pleasing']}\n"
     ]
    }
   ],
   "source": [
    "def words_starting_with(sentence):\n",
    "    sentence.replace(\"\\n\", \" \")\n",
    "    sentence_list = sentence.split()\n",
    "    word_sort = {}\n",
    "    for word in sentence_list:\n",
    "        word = word.replace(word[0], word[0].lower())\n",
    "        if word[0] in word_sort:\n",
    "            word_sort[word[0]].append(word)\n",
    "        else:\n",
    "            word_sort[word[0]] = [word]\n",
    "    return word_sort # delete this line and put in your code for the body of the function\n",
    "\n",
    "sentence = \"\"\"A satire, however hard it tries\n",
    "Will always be delightful\n",
    "Are you upset by how delicious it is\n",
    "Does it tear you apart to see the satire so pleasing\"\"\"\n",
    "print(words_starting_with(sentence))"
   ]
  },
  {
   "cell_type": "markdown",
   "metadata": {},
   "source": [
    "# Problem 7\n",
    "In the problem you will calculate the largest Scrabble score for a word in a list of words.  This problem has the following parts:\n",
    "\n",
    "1) Complete the function computeScrabbleScore that accepts a word that returns the Scrabble score for that word. The Scrabble Score for a word is the sum of the value associated with each letter in the word.  The dictionary *letter_values* below has the letter values.\n",
    "\n",
    "2) Complete the function wordScore that accepts a list of words as a parameter and builds the dictionary *word_dict* that has the word as the key and the associated Scrabble score of the word as the value.  This function calls computeScrabbleScore to get the score for each word.\n",
    "\n",
    "3) Print the dictionary returned by wordScore.\n",
    "\n",
    "3) Uses the max accumulation pattern to iterate through the dictionary returned by wordScore to find and print the word with the highest score.\n",
    "\n",
    "Note, that *letter_values* has only lower case letters.  You need to allow for uppercase letters.  This means you need to convert upper case letters to lower case before accumulating the Scrabble score for the word. Hint: search for the lower() function for strings."
   ]
  },
  {
   "cell_type": "code",
   "execution_count": 30,
   "metadata": {},
   "outputs": [
    {
     "name": "stdout",
     "output_type": "stream",
     "text": [
      "The word(s) with the highest score is/are: \n",
      "valley\n",
      "valley\n"
     ]
    }
   ],
   "source": [
    "def computeScrabbleScore(word):\n",
    "    letter_values = {'a': 1, 'b': 3, 'c': 3, 'd': 2, 'e': 1, 'f':4, 'g': 2, 'h':4, 'i':1,'j':8, 'k':5,\n",
    "                     'l':1, 'm':3, 'n':1, 'o':1, 'p':3, 'q':10, 'r':1, 's':1, 't':1, 'u':1,'v':8, 'w':4,\n",
    "                     'x':8, 'y':4, 'z':10}\n",
    "# Use the variable score to accumulate the value of the word\n",
    "    score = 0\n",
    "    for char in word:\n",
    "        score += letter_values[char]\n",
    "    return score\n",
    "\n",
    "def wordScore(word_list):\n",
    "    word_dict = {}\n",
    "    for element in word_list:\n",
    "        element = element.lower()\n",
    "        current_score = computeScrabbleScore(element)\n",
    "        if current_score in word_dict:\n",
    "            word_dict[current_score].append(element)\n",
    "        else:\n",
    "            word_dict[current_score] = [element]\n",
    "            \n",
    "    return word_dict\n",
    "# Use the variable word_dict for the (word,word score) dictionary.\n",
    "\n",
    "\n",
    "word_list = ['Half','a','league','half','a','league','Half','a','league','onward',\n",
    "         'All','in','the','valley','of','Death','Rode','the','six','hundred',\n",
    "         'Forward','the','Light','Brigade','Charge','for','the','guns','he','said',\n",
    "         'Into','the','valley','of','Death','Rode','the','six','hundred']\n",
    "word_dict = wordScore(word_list)\n",
    "\n",
    "# Write code here to find the word in word_dict with the largest word score and print that word.\n",
    "highest_score = 0\n",
    "for key in word_dict:\n",
    "    if key > highest_score:\n",
    "        highest_score = key\n",
    "\n",
    "highest_words = word_dict[highest_score]\n",
    "print(\"The word(s) with the highest score is/are: \")\n",
    "for word in highest_words:\n",
    "    print(word)\n",
    "    "
   ]
  },
  {
   "cell_type": "code",
   "execution_count": null,
   "metadata": {},
   "outputs": [],
   "source": []
  }
 ],
 "metadata": {
  "kernelspec": {
   "display_name": "Python 3",
   "language": "python",
   "name": "python3"
  },
  "language_info": {
   "codemirror_mode": {
    "name": "ipython",
    "version": 3
   },
   "file_extension": ".py",
   "mimetype": "text/x-python",
   "name": "python",
   "nbconvert_exporter": "python",
   "pygments_lexer": "ipython3",
   "version": "3.6.5"
  }
 },
 "nbformat": 4,
 "nbformat_minor": 2
}
