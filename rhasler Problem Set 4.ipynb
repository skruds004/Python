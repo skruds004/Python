{
 "cells": [
  {
   "cell_type": "markdown",
   "metadata": {},
   "source": [
    "# Run this cell first"
   ]
  },
  {
   "cell_type": "code",
   "execution_count": 1,
   "metadata": {},
   "outputs": [],
   "source": [
    "umSchools = {\n",
    "  \"A. Alfred Taubman College of Architecture & Urban Planning\": 1906,\n",
    "  \"College of Engineering\": 1854,\n",
    "  \"College of Literature, Science, and the Arts\": 1841,\n",
    "  \"Gerald R. Ford School of Public Policy\": 1914,\n",
    "  \"Horace H. Rackham School of Graduate Studies\": 1912,\n",
    "  \"Penny W. Stamps School of Art & Design\": 1974,\n",
    "  \"School of Dentistry\": 1875,\n",
    "  \"School of Education\": 1921,\n",
    "  \"School of Information\": 1996,\n",
    "  \"School of Kinesiology\": 1984,\n",
    "  \"School of Law\": 1859,\n",
    "  \"School of Medicine\": 1850,\n",
    "  \"School of Music, Theatre & Dance\": 1880,\n",
    "  \"School of Natural Resources & Environment\": 1927,\n",
    "  \"School of Nursing\": 1893,\n",
    "  \"School of Pharmacy\": 1876,\n",
    "  \"School of Public Health\": 1941,\n",
    "  \"School of Social Work\": 1951,\n",
    "  \"Stephen M. Ross School of Business\": 1924\n",
    "}\n",
    "\n",
    "january_temp_data = \"\"\"2016,   6, 51\n",
    "        2015,  -3, 41\n",
    "        2014, -14, 43\n",
    "        2013,  -3, 60\n",
    "        2012,   2, 55\n",
    "        2011,   1, 52\n",
    "        2010,   3, 47\n",
    "        2009, -10, 39\n",
    "        2008,   3, 62\n",
    "        2007,   5, 50\n",
    "        2006,  18, 53\n",
    "        2005,  -3, 56\n",
    "        2004,  -6, 55\n",
    "        2003,  -5, 47\n",
    "        2002,  11, 55\n",
    "        2001,   1, 43\n",
    "        2000,  -2, 56\"\"\""
   ]
  },
  {
   "cell_type": "markdown",
   "metadata": {},
   "source": [
    " # Problem 1\n",
    "The dictionary *courses* is a hypothetical schedule for a semester.  The key is the course name and the value is the number of credits. Use an accumulation pattern to find the total number of credits taken this semester and assign it to the variable *credits*. Print the variable *credits*."
   ]
  },
  {
   "cell_type": "code",
   "execution_count": 3,
   "metadata": {},
   "outputs": [
    {
     "name": "stdout",
     "output_type": "stream",
     "text": [
      "18\n"
     ]
    }
   ],
   "source": [
    "courses = {'CPS 141':4, 'ENG 101':3, 'CIS 100':3, 'CNT 206':4, 'MTH 160':4}\n",
    "credits = 0\n",
    "for key in courses.keys():\n",
    "    credits += courses[key]\n",
    "    \n",
    "print(credits)"
   ]
  },
  {
   "cell_type": "markdown",
   "metadata": {},
   "source": [
    "# Problem 2\n",
    "The dictionary *umSchools* maps the names of schools at Michigan to the year they were founded. Write code that assigns the year that the School of Information was founded to the variable *si_founded* (so si_founded should end up with the value 1996). Print the variable *si_founded*. "
   ]
  },
  {
   "cell_type": "code",
   "execution_count": 4,
   "metadata": {},
   "outputs": [
    {
     "name": "stdout",
     "output_type": "stream",
     "text": [
      "1996\n"
     ]
    }
   ],
   "source": [
    "si_founded = umSchools[\"School of Information\"]\n",
    "print(si_founded)\n"
   ]
  },
  {
   "cell_type": "markdown",
   "metadata": {},
   "source": [
    "# Problem 3\n",
    "Using the *umSchools* dictionary, write code to add the name of every school that was founded in the 20th century (after 1900) into a list *newer_schools*. Print the list *newer_schools*."
   ]
  },
  {
   "cell_type": "code",
   "execution_count": 6,
   "metadata": {},
   "outputs": [
    {
     "name": "stdout",
     "output_type": "stream",
     "text": [
      "['A. Alfred Taubman College of Architecture & Urban Planning', 'Gerald R. Ford School of Public Policy', 'Horace H. Rackham School of Graduate Studies', 'Penny W. Stamps School of Art & Design', 'School of Education', 'School of Information', 'School of Kinesiology', 'School of Natural Resources & Environment', 'School of Public Health', 'School of Social Work', 'Stephen M. Ross School of Business']\n"
     ]
    }
   ],
   "source": [
    "newer_schools = []\n",
    "for key in umSchools.keys():\n",
    "    if umSchools[key] >= 1900:\n",
    "        newer_schools.append(key)\n",
    "        \n",
    "print(newer_schools)\n"
   ]
  },
  {
   "cell_type": "markdown",
   "metadata": {},
   "source": [
    "# Problem 4\n",
    "Given the string *s* below, write code to determine the most common letter in the string and assign that to the variable *common_letter*.  This is a two part problem:\n",
    "1. Create a dictionary of letters and their associated count.\n",
    "2. Use a max accumulation pattern on that dictionary to find the letter with the largest count.\n",
    "\n",
    "Print most common letter and the associated number of occurances."
   ]
  },
  {
   "cell_type": "code",
   "execution_count": 8,
   "metadata": {},
   "outputs": [
    {
     "name": "stdout",
     "output_type": "stream",
     "text": [
      "e :  33\n"
     ]
    }
   ],
   "source": [
    "s = \"\"\"\n",
    "peter piper picked a peck of pickled peppers;\n",
    "a peck of pickled peppers peter picked;\n",
    "if peter piper picked a peck of pickled peppers,\n",
    "where's the peck of pickled peppers peter picked?\n",
    "\"\"\"\n",
    "\n",
    "char_count = {}\n",
    "for char in s:\n",
    "    if char in char_count:\n",
    "        char_count[char] += 1\n",
    "    else:\n",
    "        char_count[char] = 1\n",
    "        \n",
    "highest_count = 0\n",
    "for char in char_count.keys():\n",
    "    if char_count[char] > highest_count:\n",
    "        highest_count = char_count[char]\n",
    "        common_letter = char\n",
    "        \n",
    "print(common_letter, \": \", highest_count)"
   ]
  },
  {
   "cell_type": "markdown",
   "metadata": {},
   "source": [
    "# Problem 5\n",
    "Given the string *s* below, write code to determine the most common word in the string and assign it to the variable *common_word*.  This is similar to the above problem in that there are two parts:\n",
    "1. Create a dictionary words and their associated count.\n",
    "2. Use a max accumulation pattern on that dictionary to find the word with the largest count.\n",
    "\n",
    "Print most common word and the associated number of occurances."
   ]
  },
  {
   "cell_type": "code",
   "execution_count": 10,
   "metadata": {},
   "outputs": [
    {
     "name": "stdout",
     "output_type": "stream",
     "text": [
      "depends :  4\n"
     ]
    }
   ],
   "source": [
    "s = \"Number of slams in an old screen door depends upon how loud you shut it, the count of slices in a bread depends how thin you cut it, and amount 'o good inside a day depends on how well you live 'em. All depends, all depends, all depends on what's around ya.\"\n",
    "s_list = s.split()\n",
    "words = {}\n",
    "for word in s_list:\n",
    "    if word in words:\n",
    "        words[word] += 1\n",
    "    else:\n",
    "        words[word] = 1\n",
    "\n",
    "highest_count = 0\n",
    "for word in words.keys():\n",
    "    if words[word] > highest_count:\n",
    "        highest_count = words[word]\n",
    "        common_word = word\n",
    "        \n",
    "print(common_word, \": \", highest_count)"
   ]
  },
  {
   "cell_type": "markdown",
   "metadata": {},
   "source": [
    "# Problem 6\n",
    "Write code that will count the number of vowels in the string *s* and assign the result to the variable *num_vowels*. For this problem, vowels are only a, e, i, o, and u. You may find the _in_ operator useful to derive the solution. Print the variable *num_vowels*."
   ]
  },
  {
   "cell_type": "code",
   "execution_count": 13,
   "metadata": {},
   "outputs": [
    {
     "name": "stdout",
     "output_type": "stream",
     "text": [
      "32\n"
     ]
    }
   ],
   "source": [
    "s = \"singing in the rain and playing in the rain are two entirely different situations but both can be fun\"\n",
    "vowels = ['a','e','i','o','u']\n",
    "num_vowels = 0\n",
    "for char in s:\n",
    "    if char in vowels:\n",
    "        num_vowels += 1\n",
    "        \n",
    "print(num_vowels)"
   ]
  },
  {
   "cell_type": "markdown",
   "metadata": {},
   "source": [
    "# Problem 7\n",
    "Write code that creates the dictionary *vowel_frequencies* where the keys are the five vowels and the values are number of occurances of that vowel in the string *s*. Using vowel_frequencies dictionary and a max accumulation pattern determine the most common vowel and assign the result to the variable *common_vowel*.  Print the variable *common_vowel*."
   ]
  },
  {
   "cell_type": "code",
   "execution_count": 19,
   "metadata": {},
   "outputs": [
    {
     "name": "stdout",
     "output_type": "stream",
     "text": [
      "i :  11\n"
     ]
    }
   ],
   "source": [
    "s = \"singing in the rain and playing in the rain are two entirely different situations but both can be good fun\"\n",
    "vowels = ['a','e','i','o','u']\n",
    "vowel_frequencies = {}\n",
    "for char in s:\n",
    "    if char in vowels:\n",
    "        if char in vowel_frequencies:\n",
    "            vowel_frequencies[char] += 1\n",
    "        else:\n",
    "            vowel_frequencies[char] = 1\n",
    "\n",
    "highest_count = 0\n",
    "for vowel in vowel_frequencies.keys():\n",
    "    if vowel_frequencies[vowel] > highest_count:\n",
    "        common_vowel = vowel\n",
    "        highest_count = vowel_frequencies[vowel]\n",
    "\n",
    "print(common_vowel, \": \", highest_count)"
   ]
  },
  {
   "cell_type": "markdown",
   "metadata": {},
   "source": [
    "# Problem 8\n",
    "The string *january_temp_data* contains January temperature information for Ann Arbor for the years 2016 to 2000. The string *january_temp_data* is formatted so that it consists of multiple lines.  Each line is composed of three “columns” separated by commas. \n",
    "1. Year.\n",
    "2. Lowest temperature.\n",
    "3. Highest temperature.\n",
    "Write code that will create two dictionaries: *january_lows* and *january_highs*.  The dictionary *january_lows* maps a year to the lowest temperature.  The dictionary *january_highs* maps a year to the higest temperature. In both dictionaries, the keys should be integers (for each year) and the values should be integers for the temperatures.\n",
    "\n",
    "Each set of values in the string is separated by a new-line character.  You must use .split('\\n') to split the lines of january_temp_data into a list. This results in a list of strings where each string holds the three columns.  YOu must then use .split(',') to split a given line into a list containing the three column values. Use int() to cast strings to integers.\n",
    "\n",
    "Print the variables *january_lows* and *january_highs*."
   ]
  },
  {
   "cell_type": "code",
   "execution_count": 27,
   "metadata": {},
   "outputs": [
    {
     "name": "stdout",
     "output_type": "stream",
     "text": [
      "{2016: 6, 2015: -3, 2014: -14, 2013: -3, 2012: 2, 2011: 1, 2010: 3, 2009: -10, 2008: 3, 2007: 5, 2006: 18, 2005: -3, 2004: -6, 2003: -5, 2002: 11, 2001: 1, 2000: -2}\n",
      "{2016: 51, 2015: 41, 2014: 43, 2013: 60, 2012: 55, 2011: 52, 2010: 47, 2009: 39, 2008: 62, 2007: 50, 2006: 53, 2005: 56, 2004: 55, 2003: 47, 2002: 55, 2001: 43, 2000: 56}\n"
     ]
    }
   ],
   "source": [
    "january_lows = {}\n",
    "january_highs = {}\n",
    "\n",
    "january_temp_list = january_temp_data.split('\\n')\n",
    "for year in january_temp_list:\n",
    "    current_year = year.split(',')\n",
    "    january_lows[int(current_year[0])] = int(current_year[1])\n",
    "    january_highs[int(current_year[0])] = int(current_year[2])\n",
    "    \n",
    "print(january_lows)\n",
    "print(january_highs)"
   ]
  },
  {
   "cell_type": "markdown",
   "metadata": {},
   "source": [
    "# Problem 9\n",
    "Again using he string *january_temp_data*, write code that will determine which year had the largest difference between the lowest and highest temperature. Store the year as an integer in the variable  *biggest_temp_diff_year* and temperature difference is the variable *biggest_temp_diff*.  Print both *biggest_temp_diff_year* and *biggest_temp_diff*.\n",
    "\n",
    "You need use much of the code from the above problem to parse the into the three values: year, lowest temperature, and the highest temperature.  Write additional code to calculate the temperature difference and use a max accumulation pattern tp determine the year with the largest temperature difference."
   ]
  },
  {
   "cell_type": "code",
   "execution_count": 28,
   "metadata": {},
   "outputs": [
    {
     "name": "stdout",
     "output_type": "stream",
     "text": [
      "2013 :  63\n"
     ]
    }
   ],
   "source": [
    "biggest_temp_diff = 0\n",
    "\n",
    "for year in january_highs.keys():\n",
    "    year_temp_diff = january_highs[year]-january_lows[year]\n",
    "    if year_temp_diff > biggest_temp_diff:\n",
    "        biggest_temp_diff = year_temp_diff\n",
    "        biggest_temp_diff_year = year\n",
    "        \n",
    "print(biggest_temp_diff_year, \": \", biggest_temp_diff)"
   ]
  },
  {
   "cell_type": "code",
   "execution_count": null,
   "metadata": {},
   "outputs": [],
   "source": []
  }
 ],
 "metadata": {
  "kernelspec": {
   "display_name": "Python 3",
   "language": "python",
   "name": "python3"
  },
  "language_info": {
   "codemirror_mode": {
    "name": "ipython",
    "version": 3
   },
   "file_extension": ".py",
   "mimetype": "text/x-python",
   "name": "python",
   "nbconvert_exporter": "python",
   "pygments_lexer": "ipython3",
   "version": "3.6.5"
  }
 },
 "nbformat": 4,
 "nbformat_minor": 2
}
