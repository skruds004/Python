{
 "cells": [
  {
   "cell_type": "code",
   "execution_count": 80,
   "metadata": {},
   "outputs": [
    {
     "name": "stdout",
     "output_type": "stream",
     "text": [
      "Murders by Region\n",
      "      Region  Incidents\n",
      "0      South       5018\n",
      "1       West       2605\n",
      "2  Northeast       1674\n",
      "3    Midwest       3304\n",
      "Violent Crimes by Region\n",
      "      Region  Incidents\n",
      "0      South     331011\n",
      "1       West     259401\n",
      "2  Northeast     156891\n",
      "3    Midwest     211854\n",
      "Nonviolent Crimes by Region\n",
      "      Region  Incidents\n",
      "0      South    2080097\n",
      "1       West    1781665\n",
      "2  Northeast     760200\n",
      "3    Midwest    1226462\n",
      "National Average Violent Crime  18807.0\n",
      "State                 Crimes  Distance From Mean\n",
      "ALABAMA                15350             -3457.0\n",
      "ALASKA                  4697            -14110.0\n",
      "ARIZONA                23856              5049.0\n",
      "ARKANSAS               12048             -6759.0\n",
      "CALIFORNIA            145205            126398.0\n",
      "COLORADO               15533             -3274.0\n",
      "CONNECTICUT             7754            -11053.0\n",
      "DELAWARE                2359            -16448.0\n",
      "DISTRICT OF COLUMBIA    7711            -11096.0\n",
      "FLORIDA                50540             31733.0\n",
      "GEORGIA                18496              -311.0\n",
      "HAWAII                  3331            -15476.0\n",
      "IDAHO                   2676            -16131.0\n",
      "ILLINOIS               50968             32161.0\n",
      "INDIANA                21325              2518.0\n",
      "IOWA                    7533            -11274.0\n",
      "KANSAS                  7982            -10825.0\n",
      "KENTUCKY                8342            -10465.0\n",
      "LOUISIANA              16444             -2363.0\n",
      "MAINE                   1254            -17553.0\n",
      "MARYLAND               14175             -4632.0\n",
      "MASSACHUSETTS          24155              5348.0\n",
      "MICHIGAN               35790             16983.0\n",
      "MINNESOTA              11618             -7189.0\n",
      "MISSISSIPPI             3256            -15551.0\n",
      "MISSOURI               25175              6368.0\n",
      "MONTANA                 1952            -16855.0\n",
      "NEBRASKA                4401            -14406.0\n",
      "NEVADA                 18823                16.0\n",
      "NEW HAMPSHIRE           2413            -16394.0\n",
      "NEW JERSEY             19098               291.0\n",
      "NEW MEXICO              9480             -9327.0\n",
      "NEW YORK               66581             47774.0\n",
      "NORTH CAROLINA         16846             -1961.0\n",
      "NORTH DAKOTA            1393            -17414.0\n",
      "OHIO                   28235              9428.0\n",
      "OKLAHOMA               15348             -3459.0\n",
      "OREGON                  7785            -11022.0\n",
      "PENNSYLVANIA           32877             14070.0\n",
      "RHODE ISLAND            2423            -16384.0\n",
      "SOUTH CAROLINA          9473             -9334.0\n",
      "SOUTH DAKOTA            2169            -16638.0\n",
      "TENNESSEE              33433             14626.0\n",
      "TEXAS                  97872             79065.0\n",
      "UTAH                    5679            -13128.0\n",
      "VERMONT                  336            -18471.0\n",
      "VIRGINIA                9318             -9489.0\n",
      "WASHINGTON             16913             -1894.0\n",
      "WEST VIRGINIA           2701            -16106.0\n",
      "WISCONSIN              15265             -3542.0\n",
      "WYOMING                  770            -18037.0\n"
     ]
    },
    {
     "data": {
      "image/png": "[encoded data removed]",
      "text/plain": [
       "<Figure size 432x288 with 1 Axes>"
      ]
     },
     "metadata": {
      "needs_background": "light"
     },
     "output_type": "display_data"
    },
    {
     "data": {
      "image/png": "[encoded data removed]",
      "text/plain": [
       "<Figure size 432x288 with 1 Axes>"
      ]
     },
     "metadata": {
      "needs_background": "light"
     },
     "output_type": "display_data"
    },
    {
     "data": {
      "image/png": "[encoded data removed]",
      "text/plain": [
       "<Figure size 432x288 with 1 Axes>"
      ]
     },
     "metadata": {
      "needs_background": "light"
     },
     "output_type": "display_data"
    }
   ],
   "source": [
    "import json\n",
    "import pandas as pd\n",
    "\n",
    "file = open('FBI_CrimeData_2016.json')\n",
    "crime_list_file = file.read()\n",
    "crime_list = json.loads(crime_list_file)\n",
    "      \n",
    "murder_by_region = accum_crime('Region', 'Murder', crime_list)\n",
    "violent_by_region = accum_violent_crime('Region', crime_list)\n",
    "nonviolent_by_region = accum_nonviolent_crime('Region', crime_list)\n",
    "\n",
    "print(\"Murders by Region\")\n",
    "print_dict(murder_by_region)\n",
    "print(\"Violent Crimes by Region\")\n",
    "print_dict(violent_by_region)\n",
    "print(\"Nonviolent Crimes by Region\")\n",
    "print_dict(nonviolent_by_region)\n",
    "\n",
    "violent_by_state = accum_violent_crime('State', crime_list)\n",
    "crime_sum = 0\n",
    "for key in violent_by_state:\n",
    "    crime_sum += violent_by_state[key]\n",
    "    \n",
    "mean = crime_sum/51\n",
    "output_format = '{0:<20} {1:>7} {2:>19}'\n",
    "print('National Average Violent Crime ', mean)\n",
    "print(output_format.format('State','Crimes','Distance From Mean'))\n",
    "for key in violent_by_state:\n",
    "    print(output_format.format(key, violent_by_state[key], violent_by_state[key] - mean))"
   ]
  },
  {
   "cell_type": "code",
   "execution_count": 17,
   "metadata": {},
   "outputs": [],
   "source": [
    "def accum_crime(key, crime, crime_list):\n",
    "    data = {}\n",
    "    for dictionary in crime_list:\n",
    "        if not (dictionary[key] in data):\n",
    "            data[dictionary[key]] = 0\n",
    "            \n",
    "        data[dictionary[key]] += int(dictionary[crime])\n",
    "        \n",
    "    return data"
   ]
  },
  {
   "cell_type": "code",
   "execution_count": 22,
   "metadata": {},
   "outputs": [],
   "source": [
    "def accum_nonviolent_crime(key, crime_list):\n",
    "    data = {}\n",
    "    for dictionary in crime_list:\n",
    "        if not (dictionary[key] in data):\n",
    "            data[dictionary[key]] = 0\n",
    "            \n",
    "        data[dictionary[key]] += int(dictionary['Burglary']) + int(dictionary['Theft']) + int(dictionary['Vehicle_Theft'])\n",
    "        \n",
    "    return data"
   ]
  },
  {
   "cell_type": "code",
   "execution_count": 26,
   "metadata": {},
   "outputs": [],
   "source": [
    "def accum_violent_crime(key, crime_list):\n",
    "    data = {}\n",
    "    for dictionary in crime_list:\n",
    "        if not (dictionary[key] in data):\n",
    "            data[dictionary[key]] = 0\n",
    "            \n",
    "        data[dictionary[key]] += int(dictionary['Assault']) + int(dictionary['Rape']) + int(dictionary['Robbery']) + int(dictionary['Murder'])\n",
    "        \n",
    "    return data"
   ]
  },
  {
   "cell_type": "code",
   "execution_count": 53,
   "metadata": {},
   "outputs": [],
   "source": [
    "def print_dict(dictionary):\n",
    "    amount = list(dictionary.values())\n",
    "    region = list(dictionary.keys())\n",
    "    pdDict = {\"Region\":pd.Series(region), \"Incidents\":pd.Series(amount)}\n",
    "    df = pd.DataFrame(pdDict)\n",
    "    print(df)\n",
    "    df.plot.bar(x='Region',y = 'Incidents', legend=False)\n",
    "    "
   ]
  },
  {
   "cell_type": "code",
   "execution_count": null,
   "metadata": {},
   "outputs": [],
   "source": []
  }
 ],
 "metadata": {
  "kernelspec": {
   "display_name": "Python 3",
   "language": "python",
   "name": "python3"
  },
  "language_info": {
   "codemirror_mode": {
    "name": "ipython",
    "version": 3
   },
   "file_extension": ".py",
   "mimetype": "text/x-python",
   "name": "python",
   "nbconvert_exporter": "python",
   "pygments_lexer": "ipython3",
   "version": "3.6.5"
  }
 },
 "nbformat": 4,
 "nbformat_minor": 2
}
