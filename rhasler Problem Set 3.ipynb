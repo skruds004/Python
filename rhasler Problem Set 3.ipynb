{
 "cells": [
  {
   "cell_type": "markdown",
   "metadata": {},
   "source": [
    "# Problem 1\n",
    "The variable *rainfall_mi* contains a string that contains the average number of inches of rainfall in Michigan for every month (in inches) with every value is separated by a comma. Write code to compute the number of months that have more than 3 inches of rainfall. Store the result in the variable *num_rainy_months*. In other words, count the number of items with values > 3.0. Print the variable *num_rainy_months*. Hard-coded answers will receive no credit."
   ]
  },
  {
   "cell_type": "code",
   "execution_count": 4,
   "metadata": {},
   "outputs": [
    {
     "name": "stdout",
     "output_type": "stream",
     "text": [
      "5\n"
     ]
    }
   ],
   "source": [
    "rainfall_mi = \"1.65, 1.46, 2.05, 3.03, 3.35, 3.46, 2.83, 3.23, 3.5, 2.52, 2.8, 1.85\"\n",
    "\n",
    "rainfall = rainfall_mi.split(\", \")\n",
    "num_rainy_months = 0\n",
    "for inches in rainfall:\n",
    "    if float(inches) > 3.0:\n",
    "        num_rainy_months += 1\n",
    "        \n",
    "print(num_rainy_months)"
   ]
  },
  {
   "cell_type": "markdown",
   "metadata": {},
   "source": [
    "# Problem 2\n",
    "The variable *sentence* stores a string. Write code to determine how many words in sentence start and end with the same letter, including one-letter words. Store the result in the *variable same_letter_count*. Print the variable *variable same_letter_count*. Hard-coded answers will receive no credit."
   ]
  },
  {
   "cell_type": "code",
   "execution_count": 7,
   "metadata": {},
   "outputs": [
    {
     "name": "stdout",
     "output_type": "stream",
     "text": [
      "2\n"
     ]
    }
   ],
   "source": [
    "sentence = \"students flock to the arb for a variety of outdoor activities such as jogging and picnicking\"\n",
    "words = sentence.split()\n",
    "same_letter_count = 0\n",
    "for word in words:\n",
    "    if word[0] == word[-1]:\n",
    "        same_letter_count += 1\n",
    "        \n",
    "print(same_letter_count)"
   ]
  },
  {
   "cell_type": "markdown",
   "metadata": {},
   "source": [
    "# Problem 3\n",
    "Write code to count the number of strings in the list *items* that have the character \"w\" in it. Assign that number to the variable *acc_num*. Print the variable *acc_num*.\n",
    "Hints:\n",
    "1. Use an accumulation pattern.\n",
    "2. the _in_ operator checks whether a substring is present in a string.\n",
    "Hard-coded answers will receive no credit."
   ]
  },
  {
   "cell_type": "code",
   "execution_count": 10,
   "metadata": {},
   "outputs": [
    {
     "name": "stdout",
     "output_type": "stream",
     "text": [
      "4\n"
     ]
    }
   ],
   "source": [
    "items = [\"whirring\", \"wow!\", \"calendar\", \"wry\", \"glass\", \"\", \"llama\",\"tumultuous\",\"owing\"]\n",
    "acc_num = 0\n",
    "for item in items:\n",
    "    if 'w' in item:\n",
    "        acc_num += 1\n",
    "        \n",
    "print(acc_num)"
   ]
  },
  {
   "cell_type": "markdown",
   "metadata": {},
   "source": [
    "# Problem 4\n",
    "Write code that counts the number of words in variable *sentence* that contain either an “a” or an “e”. Store the result in the variable *num_a_or_e*.  Print the variable *num_a_or_e*.\n",
    "Hints:\n",
    "1. Make sure to not double-count words that contain both an a and an e.\n",
    "2. Use the _in_ operator.\n",
    "3. Use either _if_ or _if_-_elif_.\n",
    "Hard-coded answers will receive no credit."
   ]
  },
  {
   "cell_type": "code",
   "execution_count": 11,
   "metadata": {},
   "outputs": [
    {
     "name": "stdout",
     "output_type": "stream",
     "text": [
      "14\n"
     ]
    }
   ],
   "source": [
    "sentence = \"python is a high level general purpose programming language that can be applied to many different classes of problems.\"\n",
    "words = sentence.split()\n",
    "num_a_or_e = 0\n",
    "for word in words:\n",
    "    if 'a' in word:\n",
    "        num_a_or_e += 1\n",
    "    elif 'e' in word:\n",
    "        num_a_or_e += 1\n",
    "        \n",
    "print(num_a_or_e)"
   ]
  },
  {
   "cell_type": "markdown",
   "metadata": {},
   "source": [
    "# Problem 5\n",
    "The text file PS3_wnvhumancases.txt contains data on West Nile virus infections in the United States from 2006 through 2018. Each record (line) in the file has four columns(values) separated by a comma. Each column is described below.\n",
    "\n",
    "    Column 1:  Year (reported)\n",
    "    Column 2:  Week (week reported)\n",
    "    Column 3:  County\n",
    "    Column 4:  Cases (number of cases reported)\n",
    "\n",
    "Process the file and use an accumulation pattern to provide a count of the number of records in the file in the variable __nrecs__ and the total number of incidents, i.e., a total of Positive Cases, in the variable __nincidents__.  Your output should appear similar to the following:\n",
    "\n",
    "    Total Records processed:  1789\n",
    "    Total Incidents:  4993\n",
    "\n",
    "Hint:  Since this is a text file each line is a string. You will need to split the line into a list of values. "
   ]
  },
  {
   "cell_type": "code",
   "execution_count": 15,
   "metadata": {},
   "outputs": [
    {
     "name": "stdout",
     "output_type": "stream",
     "text": [
      "Total Records processed:  1789\n",
      "4993\n"
     ]
    }
   ],
   "source": [
    "my_file = open(\"PS3_wnvhumancases.txt\",\"r\")\n",
    "nrecs = 0\n",
    "nincidents = 0\n",
    "for line in my_file:\n",
    "    split_line = line.split(\",\")\n",
    "    nrecs += 1\n",
    "    nincidents += int(split_line[3])\n",
    "    \n",
    "print(\"Total Records processed: \" ,nrecs)\n",
    "print(\"Total Incidents: \", nincidents)\n",
    "my_file.close()"
   ]
  },
  {
   "cell_type": "code",
   "execution_count": null,
   "metadata": {},
   "outputs": [],
   "source": []
  }
 ],
 "metadata": {
  "kernelspec": {
   "display_name": "Python 3",
   "language": "python",
   "name": "python3"
  },
  "language_info": {
   "codemirror_mode": {
    "name": "ipython",
    "version": 3
   },
   "file_extension": ".py",
   "mimetype": "text/x-python",
   "name": "python",
   "nbconvert_exporter": "python",
   "pygments_lexer": "ipython3",
   "version": "3.6.5"
  }
 },
 "nbformat": 4,
 "nbformat_minor": 2
}
