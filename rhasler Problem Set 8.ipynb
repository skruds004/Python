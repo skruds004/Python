{
 "cells": [
  {
   "cell_type": "markdown",
   "metadata": {},
   "source": [
    "# A Note About Testing\n",
    "As you write code in any cell, add print statements, so you can see whether your code is working correctly. Never make assumuptions to what a variable contains.  Use print statements liberally to see the values and the type of a variable.  We are deliberately starting to remove some of the \"scaffolding\" that we have been providing, putting more responsibility on you to figure out whether your code is right."
   ]
  },
  {
   "cell_type": "markdown",
   "metadata": {},
   "source": [
    "# Run this cell first \n",
    "This will import the csv and json modules and build a list of dictionaries call *umich_buildings*. These data structures are used in later problems."
   ]
  },
  {
   "cell_type": "code",
   "execution_count": 6,
   "metadata": {},
   "outputs": [],
   "source": [
    "# do all our imports at the top of the file, because that's the standard style\n",
    "import csv\n",
    "import json\n",
    "from ps8_vincenty import latLngDistanceMeters\n",
    "\n",
    "fh = open('ps8_umich_buildings.json','r')\n",
    "umich_buildins_str = fh.read()\n",
    "umich_buildings = json.loads(umich_buildins_str) \n",
    "\n",
    "\n",
    "baby_file = open('ps8_us-common-baby-names.csv','r')\n",
    "baby_reader = csv.DictReader(baby_file)\n",
    "baby_names = list(baby_reader) # turn the reader object into a real list"
   ]
  },
  {
   "cell_type": "markdown",
   "metadata": {},
   "source": [
    "The variable *umich_buildings* is list where each element is a dictionary.  The keys in the dictionary contained in each list element are: \n",
    "\n",
    "<table>\n",
    "  <tr>\n",
    "    <th style=\"text-align: center\">Key</th>\n",
    "    <th style=\"text-align: center\">Description</th> \n",
    "  </tr>\n",
    "  <tr>\n",
    "    <td style=\"text-align: center\">address</td>\n",
    "    <td  style=\"text-align: left\">The address of the building</td> \n",
    "  </tr>\n",
    "  <tr>\n",
    "    <td style=\"text-align: center\">id</td>\n",
    "    <td  style=\"text-align: left\">The building id, e.g.,asb is Administrative Services Building </td> \n",
    "  </tr>\n",
    "  <tr>\n",
    "    <td style=\"text-align: center\">lat</td>\n",
    "    <td  style=\"text-align: left\">The geographic latitude,i.e., north-south position of a point on the Earth's surface</td> \n",
    "  </tr>\n",
    "  <tr>\n",
    "    <td style=\"text-align: center\">lng</td>\n",
    "    <td  style=\"text-align: left\">The geographic longitude,i.e.,the angular distance of a place east or west of the meridian at Greenwich, England</td> \n",
    "  </tr>\n",
    "  <tr>\n",
    "    <td style=\"text-align: center\">name</td>\n",
    "    <td  style=\"text-align: left\">The building name</td> \n",
    "  </tr>\n",
    "</table>\n",
    "\n",
    "Below is typical element in the list:  \n",
    "{  \n",
    "&nbsp;&nbsp;&nbsp;&nbsp;\"address\": \"1201 South Main Street Ann Arbor, MI 48104-3722\",  \n",
    "&nbsp;&nbsp;&nbsp;&nbsp;\"id\": \"stadm\",  \n",
    "&nbsp;&nbsp;&nbsp;&nbsp;\"lat\": 42.265071,  \n",
    "&nbsp;&nbsp;&nbsp;&nbsp;\"lng\": -83.748662,  \n",
    "&nbsp;&nbsp;&nbsp;&nbsp;\"name\": \"Michigan Stadium\"  \n",
    "}  "
   ]
  },
  {
   "cell_type": "markdown",
   "metadata": {},
   "source": [
    "# Problem 1\n",
    "Write a function named *buildingLatLong_* that returns a (latitude, longitude) tuple for any building id in *umich_buildings*. You will need to iterate through each list element, then for each list element compare the value associated with the id key to the value passed to the function. If that building id could not be found, return *None*."
   ]
  },
  {
   "cell_type": "code",
   "execution_count": 7,
   "metadata": {},
   "outputs": [
    {
     "name": "stdout",
     "output_type": "stream",
     "text": [
      "(42.278866, -83.732666)\n"
     ]
    }
   ],
   "source": [
    "def buildingLatLong(building_id):\n",
    "    for dictionary in umich_buildings:\n",
    "        if dictionary['id'] == building_id:\n",
    "            return (dictionary['lat'],dictionary['lng'])\n",
    "    return None\n",
    "    \n",
    "print(buildingLatLong('ccrb'))"
   ]
  },
  {
   "cell_type": "markdown",
   "metadata": {},
   "source": [
    "For building id ccrb the output should be:  (42.278866, -83.732666)"
   ]
  },
  {
   "cell_type": "markdown",
   "metadata": {},
   "source": [
    "# Problem 2\n",
    "Write a function named _*buildingName_* that accepts a building id as a parameter and returns the associated building name. If that building ID could not be found, return *None*."
   ]
  },
  {
   "cell_type": "code",
   "execution_count": 8,
   "metadata": {},
   "outputs": [
    {
     "name": "stdout",
     "output_type": "stream",
     "text": [
      "Central Campus Recreation Building\n"
     ]
    }
   ],
   "source": [
    "def buildingName(building_id):\n",
    "    for dictionary in umich_buildings:\n",
    "        if dictionary['id'] == building_id:\n",
    "            return dictionary['name']\n",
    "    return None\n",
    "print(buildingName('ccrb'))"
   ]
  },
  {
   "cell_type": "markdown",
   "metadata": {},
   "source": [
    "For building id ccrb the output should be:  Central Campus Recreation Building"
   ]
  },
  {
   "cell_type": "markdown",
   "metadata": {},
   "source": [
    "# Problem 3\n",
    "\"Vincenty's formulae are two related iterative methods used to calculate the distance between two points on the surface of a spheroid, developed by Thaddeus Vincenty (1975a)\"\n",
    "\n",
    "The file *vincenty.py*, which was imported in the first cell, contains code that calculates the \"vincenty distance\" between two points' using the latitude and longitude of both points. The function *latLngDistanceMeter*, present in vincenty.py, accepts two tuples as paramters where each tuple contains the coordinates (latitude,longitude) of a point on the Earth and performs the vincenty calculation.  Below is an example of how this function is called:\n",
    "\n",
    "&nbsp;&nbsp;&nbsp;&nbsp;&nbsp;&nbsp;&nbsp;latLngDistanceMeters((42.3584, -71.0912), (42.278, -83.7382))\n",
    "\n",
    "Write a function named _*buildingDistance*_ that is passed two building IDs and determines the vincenty distance between two building IDs."
   ]
  },
  {
   "cell_type": "code",
   "execution_count": 21,
   "metadata": {},
   "outputs": [
    {
     "name": "stdout",
     "output_type": "stream",
     "text": [
      "The vincenty distance between building nq and stadm: 1850.3417342836317\n"
     ]
    }
   ],
   "source": [
    "def buildingDistance(building1_id, building2_id):\n",
    "    for dictionary in umich_buildings:\n",
    "        if dictionary['id'] == building1_id:\n",
    "            loc1 = (dictionary['lat'], dictionary['lng'])\n",
    "    for dictionary in umich_buildings:\n",
    "        if dictionary['id'] == building2_id:\n",
    "            loc2 = (dictionary['lat'], dictionary['lng'])\n",
    "            \n",
    "    return latLngDistanceMeters(loc1,loc2)\n",
    "\n",
    "vdistance = buildingDistance('nq','stadm')\n",
    "print(\"The vincenty distance between building nq and stadm:\",vdistance)"
   ]
  },
  {
   "cell_type": "markdown",
   "metadata": {},
   "source": [
    "# Problem 4: \n",
    "Write code that iterates over *umich_buildings* and outputs a *.csv* file called *north_quad_distance.csv*. The csv file has two columns: The first column is the *building name* and the second column is the vincenty distance of that building from North Quad(nq). Since this is a csv file the first row identifies the columns.  So, column 1 of the first row has the value \"Name\" and column 2 has the value \"Distance from NQ\". There should be one subsequent row for each building (including North Quad, which should have a zero distance).  You should use the string .format() function to format each row in the csv file.\n",
    "\n",
    "Check your work by opening the .csv file in a text editor and importing it into a spreadsheet program like Excel or Google Sheets.\n",
    "\n",
    "You file should appear similar to that below:  \n",
    "&nbsp;&nbsp;&nbsp;&nbsp;&nbsp;&nbsp;&nbsp;&nbsp;Name,Distance from NQ  \n",
    "&nbsp;&nbsp;&nbsp;&nbsp;&nbsp;&nbsp;&nbsp;&nbsp;1000 Victors Way,4674.366005  \n",
    "&nbsp;&nbsp;&nbsp;&nbsp;&nbsp;&nbsp;&nbsp;&nbsp;1032 Greene Building,1498.650608  \n",
    "&nbsp;&nbsp;&nbsp;&nbsp;&nbsp;&nbsp;&nbsp;&nbsp;523 South Division Building,639.5818755  \n",
    "&nbsp;&nbsp;&nbsp;&nbsp;&nbsp;&nbsp;&nbsp;&nbsp;Administrative Services Building,1410.470849  "
   ]
  },
  {
   "cell_type": "code",
   "execution_count": 34,
   "metadata": {},
   "outputs": [],
   "source": [
    "csvfile = open('north_quad_distance.csv',\"w\",newline='')\n",
    "loc_format = '{},{}'\n",
    "writer = csv.writer(csvfile)\n",
    "writer.writerow(['Name','Distance from NQ'])\n",
    "for location in umich_buildings:\n",
    "    distance = buildingDistance('nq',location['id'])\n",
    "    writer.writerow([loc_format.format(location['name'],distance)])\n",
    "csvfile.close()"
   ]
  },
  {
   "cell_type": "markdown",
   "metadata": {},
   "source": [
    "This next problem uses the list *baby_names* loaded from us-common-baby-names.csv (see first cell). Each element in the list is an OrderedDict object which is just like a dictionary except the elements are ordered in creation sequence.  This means that you may treat *baby_names* as a list where each element in the list is a dictionary.  A sample row appears as below.\n",
    "\n",
    "&nbsp;&nbsp;&nbsp;&nbsp;&nbsp;&nbsp;&nbsp;&nbsp;OrderedDict([('year', '1880'),('name', 'John'),('percent', '0.081541'),('sex', 'boy')])\n",
    "             \n",
    "The *percent* key holds a percentage value which represents the number of babies born that year who were given the name found in the value of the name key.  "
   ]
  },
  {
   "cell_type": "markdown",
   "metadata": {},
   "source": [
    "# Problem 5\n",
    "Write the function *popularInYear* that accepts the integer parameter *year* and returns the most popular name for that year. The most popular name is the one with the largest percentage.  This problem is essentially finding the maximum percentage in a subset of the baby_names list that match the year parameter.  "
   ]
  },
  {
   "cell_type": "code",
   "execution_count": 65,
   "metadata": {},
   "outputs": [
    {
     "name": "stdout",
     "output_type": "stream",
     "text": [
      "Most popular name in 1967 is Michael with 4.63 percent\n"
     ]
    }
   ],
   "source": [
    "def findMostPopularName(year):\n",
    "    max_perc = 0.0\n",
    "    for baby in baby_names:\n",
    "        if (baby['year'] == year) and (float(baby['percent']) > float(max_perc)):\n",
    "            max_perc = baby['percent']\n",
    "            pop_baby = baby\n",
    "    return pop_baby\n",
    "\n",
    "year = '1967'\n",
    "mostPopular = findMostPopularName(year)\n",
    "percent = round(float(mostPopular['percent'])*100,2)\n",
    "print('Most popular name in',year,'is',mostPopular['name'],'with',percent,'percent')"
   ]
  },
  {
   "cell_type": "markdown",
   "metadata": {},
   "source": [
    "## Nested Data and Nested Iteration\n",
    "Many web services return information either in a json or xml format.  Below is sample json return by the Facebook API and is representative in structure of the json returned by most web services.  You will be working complex nested data in future modules.  This problem will serve as a warmup for those future problem sets.\n",
    "\n",
    "First, just get familiar with the structure of the data. You may want to copy and paste it to a site like https://jsoneditoronline.org/ so you may inspect the data.\n",
    "\n",
    "Run the cell below before proceeding to the problems."
   ]
  },
  {
   "cell_type": "code",
   "execution_count": 66,
   "metadata": {},
   "outputs": [],
   "source": [
    "fb_data = {\n",
    " \"data\": [\n",
    "  {\n",
    "    \"id\": \"2253324325325123432madeup\", \n",
    "    \"from\": {\n",
    "      \"id\": \"23243152523425madeup\", \n",
    "      \"name\": \"Jane Smith\"\n",
    "    }, \n",
    "    \"to\": {\n",
    "      \"data\": [\n",
    "        {\n",
    "          \"name\": \"Your Facebook Group\", \n",
    "          \"id\": \"432542543635453245madeup\"\n",
    "        }\n",
    "      ]\n",
    "    }, \n",
    "    \"message\": \"This problem might use the accumulation pattern, like many problems do\", \n",
    "    \"type\": \"status\", \n",
    "    \"created_time\": \"2014-10-03T02:07:19+0000\", \n",
    "    \"updated_time\": \"2014-10-03T02:07:19+0000\"\n",
    "  }, \n",
    " \n",
    "  {\n",
    "    \"id\": \"2359739457974250975madeup\", \n",
    "    \"from\": {\n",
    "      \"id\": \"4363684063madeup\", \n",
    "      \"name\": \"John Smythe\"\n",
    "    }, \n",
    "    \"to\": {\n",
    "      \"data\": [\n",
    "        {\n",
    "          \"name\": \"Your Facebook Group\", \n",
    "          \"id\": \"432542543635453245madeup\"\n",
    "        }\n",
    "      ]\n",
    "    }, \n",
    "    \"message\": \"Here is a fun link about programming\", \n",
    "    \"type\": \"status\", \n",
    "    \"created_time\": \"2014-10-02T20:12:28+0000\", \n",
    "    \"updated_time\": \"2014-10-02T20:12:28+0000\"\n",
    "  }]\n",
    "}"
   ]
  },
  {
   "cell_type": "markdown",
   "metadata": {},
   "source": [
    "## Problem 6\n",
    "Extract the contents of the first message into a variable called *first_message*.  Print *first_message*."
   ]
  },
  {
   "cell_type": "code",
   "execution_count": 69,
   "metadata": {},
   "outputs": [
    {
     "name": "stdout",
     "output_type": "stream",
     "text": [
      "This problem might use the accumulation pattern, like many problems do\n"
     ]
    }
   ],
   "source": [
    "first_message = fb_data['data'][0]['message']\n",
    "print(first_message)"
   ]
  },
  {
   "cell_type": "markdown",
   "metadata": {},
   "source": [
    "Output should be: This problem might use the accumulation pattern, like many problems do"
   ]
  },
  {
   "cell_type": "markdown",
   "metadata": {},
   "source": [
    "# Problem 7\n",
    "Extract the name of the author of the second post, into a variable called *second_name*.  Print *second_name*."
   ]
  },
  {
   "cell_type": "code",
   "execution_count": 71,
   "metadata": {},
   "outputs": [
    {
     "name": "stdout",
     "output_type": "stream",
     "text": [
      "John Smythe\n"
     ]
    }
   ],
   "source": [
    "second_name = fb_data['data'][1]['from']['name']\n",
    "print(second_name)"
   ]
  },
  {
   "cell_type": "markdown",
   "metadata": {},
   "source": [
    "Output should be: John Smythe"
   ]
  },
  {
   "cell_type": "markdown",
   "metadata": {},
   "source": [
    "# Problem 8\n",
    "Write code that generates a list of the names of all the senders of the messages in fb_data. Store it in a variable called *senders*.  Print the variable *senders*."
   ]
  },
  {
   "cell_type": "code",
   "execution_count": 73,
   "metadata": {},
   "outputs": [
    {
     "name": "stdout",
     "output_type": "stream",
     "text": [
      "['Jane Smith', 'John Smythe']\n"
     ]
    }
   ],
   "source": [
    "senders = []\n",
    "for data in fb_data['data']:\n",
    "    senders.append(data['from']['name'])\n",
    "print(senders)"
   ]
  },
  {
   "cell_type": "markdown",
   "metadata": {},
   "source": [
    "Should be: `['Jane Smith', 'John Smythe']`"
   ]
  },
  {
   "cell_type": "markdown",
   "metadata": {},
   "source": [
    "# Tests\n"
   ]
  },
  {
   "cell_type": "code",
   "execution_count": null,
   "metadata": {},
   "outputs": [],
   "source": [
    "# PROBLEM 1 TESTS\n",
    "\n",
    "passed_test_1 = False\n",
    "if umich_buildings and len(umich_buildings) == 161:\n",
    "    first_building = {'lat': 42.238815, 'lng': -83.73215, 'id': '1000v', 'name': '1000 Victors Way', 'address': '1000 Victors Way'}\n",
    "    building_zero = umich_buildings[0]\n",
    "    if building_zero['name'] == first_building['name'] and building_zero['id'] == first_building['id']:\n",
    "        print('[P1] GOOD! umich_buildings seems to be properly loaded')\n",
    "        passed_test_1 = True\n",
    "    else:\n",
    "        print('[P1] umich_buildings does not seem to have the expected buildings')\n",
    "else:\n",
    "    print('[P1] umich_buildings does not seem to contain the expected list of 161 buildings')\n",
    "\n",
    "# PROBLEM 2 TESTS\n",
    "\n",
    "if passed_test_1:\n",
    "    LL = buildingLatLong('nq')\n",
    "    if LL:\n",
    "        lat,lng = LL\n",
    "        if abs(lat-42.280477)+abs(lng - (-83.740131)) < 0.01:\n",
    "            if buildingLatLong('xxxx') == None:\n",
    "                print('[P2] GOOD! The latitude and longitude fetching function seems to work')\n",
    "            else:\n",
    "                print('[P2] When a building ID does not appear, be sure buildingLatLong returns None')\n",
    "        else:\n",
    "            print('[P2] The buildingLatLong function does not appear to return the correct value')\n",
    "    else:\n",
    "        print('[P2] buildingLatLong when called on nq does not appear to return the correct value')\n",
    "\n",
    "\n",
    "# PROBLEM 3 TESTS\n",
    "if passed_test_1:\n",
    "    if buildingName('nq') == 'North Quadrangle':\n",
    "        if buildingName('xxxx') == None:\n",
    "            print('[P3] GOOD! The name fetching function seems to work')\n",
    "        else:\n",
    "            print('[P3] When a building ID does not appear, be sure buildingName returns None')\n",
    "    else:\n",
    "        print('[P3] The buildingName function does not appear to return the correct value')\n",
    "\n",
    "# PROBLEM 4 TESTS\n",
    "if passed_test_1:\n",
    "    # checking that the distance from North Quad to Michigan Stadium is about 1.1 miles\n",
    "    D = buildingDistance('nq', 'stadm')\n",
    "    if type(D) == type(0.0):\n",
    "        if abs(D - 1850.34173428) < 0.01:\n",
    "            if buildingDistance('nq', 'nq') < 0.01:\n",
    "                print('[P4] GOOD! The distance computation seems to work')\n",
    "            else:\n",
    "                print('[P4] Unexpected value for building distance in our test case')\n",
    "        else:\n",
    "            print('[P4] Unexpected value for building distance in our test case')\n",
    "    else:\n",
    "        print('[P4] be sure that buildingDistance returns a float')\n",
    "\n",
    "# PROBLEM 5 TESTS\n",
    "if passed_test_1:\n",
    "    north_quad_closest = ['Modern Languages Building', 'Rackham School of Graduate Studies, Horace H.', 'Hamilton Square']\n",
    "    stadium_closest = ['Crisler Center', 'William Davidson Player Development Center', 'Facilities Services Building B', 'Transportation Services Building']\n",
    "    if closestBuildingNames('stadm', 4) == stadium_closest and closestBuildingNames('nq') == north_quad_closest:\n",
    "        print('[P5] GOOD! The closest buildings list seems to work')\n",
    "    else:\n",
    "        print('[P5] Unexpected value for building distance in our test case')\n",
    "\n",
    "# PROBLEM 6 TESTS\n",
    "f = open('north_quad_distance.csv', 'r')\n",
    "reader = csv.DictReader(f)\n",
    "row = list(reader)[0]\n",
    "if 'name' not in row:\n",
    "    print(\"[P6] 'name' field not present in .csv file\")\n",
    "elif 'distance_from_nq' not in row:\n",
    "    print(\"[P6] 'distance_from_nq' field not present in .csv file\")\n",
    "elif row['name'] != '1000 Victors Way':\n",
    "    print(\"[P6] first building is not 1000 Victors Way\")\n",
    "else:\n",
    "    print(\"[P6] GOOD! You seem to have written out the .csv file correctly\")\n",
    "f.close()\n",
    "        \n",
    "print('== RUNNING PART 2 TESTS ==')\n",
    "propery_loaded_baby_names = False\n",
    "\n",
    "if len(baby_names) == 25800 and len(baby_names[0])==4:\n",
    "    propery_loaded_baby_names = True\n",
    "else:\n",
    "    print('Be sure that you are properly loading us-common-baby-names.csv')\n",
    "\n",
    "# PROBLEM 7 TESTS\n",
    "if propery_loaded_baby_names:\n",
    "    popular_in_1980 = ['Michael', 'Jennifer', 'Christopher']\n",
    "    popular_in_1990 = ['Michael', 'Christopher', 'Jessica', 'Ashley', 'Matthew', 'Joshua', 'Brittany', 'Amanda', 'Daniel', 'David']\n",
    "\n",
    "    if popularInYear(1980) == popular_in_1980 and popularInYear(1990, 10) == popular_in_1990:\n",
    "        print('[P7] GOOD! popularInYear seems to work')\n",
    "    else:\n",
    "        print('[P7] Be sure that popularInYear is correctly sorting names by popularity')\n",
    "\n",
    "# PROBLEM 8 TESTS\n",
    "if propery_loaded_baby_names:\n",
    "    stephen_popular = [1951, 1952, 1949, 1950, 1953, 1955, 1954, 1956, 1948, 1957,\n",
    "    1967, 1958, 1968, 1947, 1969, 1966, 1970, 1965, 1959, 1960, 1961, 1962, 1964,\n",
    "    1963, 1971, 1946, 1972, 1984, 1985, 1945, 1983, 1974, 1986, 1973, 1975, 1976,\n",
    "    1987, 1988, 1978, 1977, 1982, 1944, 1989, 1990, 1981, 1979, 1943, 1980, 1942,\n",
    "    1991, 1941, 1992, 1993, 1940, 1994, 1995, 1996, 1939, 1997, 1998, 1938, 1999,\n",
    "    1914, 1915, 1912, 1913, 1916, 1911, 2000, 1917, 1937, 1909, 1918, 1936, 1907,\n",
    "    1905, 1908, 1910, 1919, 1882, 1921, 1920, 1897, 1902, 1903, 1899, 1886, 1887,\n",
    "    1880, 1898, 1888, 1885, 1881, 1884, 1883]\n",
    "\n",
    "    bob_popular = [1934, 1936, 1932, 1935, 1933, 1931, 1937, 1930, 1939, 1938,\n",
    "    1929, 1928, 1940, 1927]\n",
    "\n",
    "    jill_popular = [1966, 1968, 1967, 1965, 1977, 1969, 1970, 1964, 1975, 1978, 1976, 1971, 1974, 1963, 1962, 1979, 1972, 1961, 1973, 1960, 1959, 1980, 1958, 1957, 1981, 1982, 1983]\n",
    "\n",
    "    if nameMostPopularYears('Stephen', 100) == stephen_popular and nameMostPopularYears('Bob', 100) == bob_popular and nameMostPopularYears('Jill', 100) == jill_popular:\n",
    "        print('[P8] GOOD! nameMostPopularYears is giving what we expect')\n",
    "    else:\n",
    "        print('[P8] nameMostPopularYears does not seem to produce what we expect')\n",
    "        \n",
    "# PROBLEM 9 TESTS\n",
    "if first_message == 'This problem might use the accumulation pattern, like many problems do':\n",
    "    print('[P9] GOOD!')\n",
    "else:\n",
    "    print('[P9] first_message has the wrong value')\n",
    "\n",
    "# PROBLEM 10 TESTS\n",
    "if second_name == 'John Smythe':\n",
    "    print('[P10] GOOD!')\n",
    "else:\n",
    "    print('[P10] second_name has the wrong value')\n",
    "    \n",
    "# PROBLEM 11 TESTS\n",
    "if senders == ['Jane Smith', 'John Smythe']:\n",
    "    print('[P11] GOOD!')\n",
    "else:\n",
    "    print('[P11] senders has the wrong value')"
   ]
  },
  {
   "cell_type": "code",
   "execution_count": null,
   "metadata": {},
   "outputs": [],
   "source": []
  }
 ],
 "metadata": {
  "kernelspec": {
   "display_name": "Python 3",
   "language": "python",
   "name": "python3"
  },
  "language_info": {
   "codemirror_mode": {
    "name": "ipython",
    "version": 3
   },
   "file_extension": ".py",
   "mimetype": "text/x-python",
   "name": "python",
   "nbconvert_exporter": "python",
   "pygments_lexer": "ipython3",
   "version": "3.6.5"
  }
 },
 "nbformat": 4,
 "nbformat_minor": 2
}
